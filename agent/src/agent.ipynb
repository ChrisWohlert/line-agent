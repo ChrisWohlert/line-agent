{
 "cells": [
  {
   "cell_type": "code",
   "execution_count": 2,
   "metadata": {},
   "outputs": [
    {
     "name": "stdout",
     "output_type": "stream",
     "text": [
      "Requirement already satisfied: pandas in c:\\users\\chwo\\appdata\\local\\programs\\python\\python38\\lib\\site-packages (1.4.4)\n",
      "Requirement already satisfied: sklearn in c:\\users\\chwo\\appdata\\local\\programs\\python\\python38\\lib\\site-packages (0.0)\n",
      "Requirement already satisfied: gym in c:\\users\\chwo\\appdata\\local\\programs\\python\\python38\\lib\\site-packages (0.26.1)\n",
      "Requirement already satisfied: numpy>=1.18.5 in c:\\users\\chwo\\appdata\\local\\programs\\python\\python38\\lib\\site-packages (from pandas) (1.23.2)\n",
      "Requirement already satisfied: pytz>=2020.1 in c:\\users\\chwo\\appdata\\local\\programs\\python\\python38\\lib\\site-packages (from pandas) (2022.2.1)\n",
      "Requirement already satisfied: python-dateutil>=2.8.1 in c:\\users\\chwo\\appdata\\local\\programs\\python\\python38\\lib\\site-packages (from pandas) (2.8.2)\n",
      "Requirement already satisfied: scikit-learn in c:\\users\\chwo\\appdata\\local\\programs\\python\\python38\\lib\\site-packages (from sklearn) (1.1.2)\n",
      "Requirement already satisfied: importlib-metadata>=4.8.0 in c:\\users\\chwo\\appdata\\local\\programs\\python\\python38\\lib\\site-packages (from gym) (4.12.0)\n",
      "Requirement already satisfied: gym-notices>=0.0.4 in c:\\users\\chwo\\appdata\\local\\programs\\python\\python38\\lib\\site-packages (from gym) (0.0.8)\n",
      "Requirement already satisfied: cloudpickle>=1.2.0 in c:\\users\\chwo\\appdata\\local\\programs\\python\\python38\\lib\\site-packages (from gym) (2.2.0)\n",
      "Requirement already satisfied: zipp>=0.5 in c:\\users\\chwo\\appdata\\local\\programs\\python\\python38\\lib\\site-packages (from importlib-metadata>=4.8.0->gym) (3.8.1)\n",
      "Requirement already satisfied: six>=1.5 in c:\\users\\chwo\\appdata\\local\\programs\\python\\python38\\lib\\site-packages (from python-dateutil>=2.8.1->pandas) (1.16.0)\n",
      "Requirement already satisfied: scipy>=1.3.2 in c:\\users\\chwo\\appdata\\local\\programs\\python\\python38\\lib\\site-packages (from scikit-learn->sklearn) (1.9.0)\n",
      "Requirement already satisfied: joblib>=1.0.0 in c:\\users\\chwo\\appdata\\local\\programs\\python\\python38\\lib\\site-packages (from scikit-learn->sklearn) (1.1.0)\n",
      "Requirement already satisfied: threadpoolctl>=2.0.0 in c:\\users\\chwo\\appdata\\local\\programs\\python\\python38\\lib\\site-packages (from scikit-learn->sklearn) (3.1.0)\n"
     ]
    }
   ],
   "source": [
    "!pip install pandas sklearn gym"
   ]
  },
  {
   "cell_type": "code",
   "execution_count": 3,
   "metadata": {},
   "outputs": [],
   "source": [
    "import os\n",
    "import pandas as pd\n",
    "from sklearn.model_selection import train_test_split\n",
    "from sklearn.linear_model import LinearRegression\n",
    "from datetime import datetime\n",
    "from sklearn.tree import DecisionTreeClassifier\n",
    "from sklearn.ensemble import RandomForestClassifier\n",
    "from sklearn.preprocessing import StandardScaler\n",
    "from gym import spaces, Env\n",
    "import numpy as np"
   ]
  },
  {
   "cell_type": "code",
   "execution_count": 4,
   "metadata": {},
   "outputs": [],
   "source": [
    "class LineAgent:\n",
    "    def __init__(self):\n",
    "        self.vectors = np.zeros(shape=(2, 10))\n",
    "\n",
    "    def predict(self, actions):\n",
    "        self.vectors = self.vectors + actions\n"
   ]
  },
  {
   "cell_type": "code",
   "execution_count": 183,
   "metadata": {},
   "outputs": [],
   "source": [
    "import math\n",
    "from operator import truediv\n",
    "\n",
    "from numpy import NaN, nan\n",
    "\n",
    "\n",
    "class VectorEnv(Env):\n",
    "    def __init__(self, frames):\n",
    "        super(VectorEnv, self).__init__()\n",
    "        self.action_space = spaces.Discrete(4,)\n",
    "        self.nb_actions = 4\n",
    "        self.observation_space = spaces.Box(shape=(150,), high=100, low=-100)\n",
    "        self.frames = frames\n",
    "        self.reset()\n",
    "\n",
    "    def step(self, action):\n",
    "        self.t += 1\n",
    "        done = self.t > 100\n",
    "        self.episode += 1\n",
    "        self.episode = self.episode % 10\n",
    "        if action[0] == 0:\n",
    "            self.vectors[self.episode] = self.vectors[self.episode][0] + 1\n",
    "        if action[0] == 1:\n",
    "            self.vectors[self.episode] = self.vectors[self.episode][0] - 1\n",
    "        if action[0] == 2:\n",
    "            self.vectors[self.episode] = self.vectors[self.episode][1] + 1\n",
    "        if action[0] == 3:\n",
    "            self.vectors[self.episode] = self.vectors[self.episode][1] - 1\n",
    "\n",
    "        # Calculate reward based on vectors and frame\n",
    "        reward = 0\n",
    "        vectors_with_start = np.concatenate(([self.start], self.vectors[1:]))\n",
    "        vectors_with_end = np.concatenate((self.vectors[:-1], [self.end]))\n",
    "        for (v1, v2) in zip(vectors_with_start, vectors_with_end):\n",
    "            for box in self.boxes:\n",
    "                reward -= -1000 if self.intersects(v1, v2, box) else 0\n",
    "\n",
    "        # Calculate distance of linesegments and reward for shorter lines\n",
    "\n",
    "        return self.frame, reward, done, False, {}\n",
    "\n",
    "    def reset(self):\n",
    "        self.vectors = np.zeros(shape=(10, 2))\n",
    "        i = np.random.randint(len(self.frames), size=1)\n",
    "        self.frame = self.frames[i]\n",
    "        print(\"gg\", self.frame.shape, i)\n",
    "        self.boxes = self.chunks(self.frame.flatten(), 4)\n",
    "        self.t = 0\n",
    "        self.episode = 0\n",
    "        self.start = self.boxes[0][:2]\n",
    "        self.end = self.boxes[-1][:2]\n",
    "        self.state = self.frame\n",
    "        return self.frame\n",
    "\n",
    "    def intersects(self, v1, v2, box):\n",
    "        x1 = v1[0]\n",
    "        y1 = v1[1]\n",
    "        x2 = v2[0]\n",
    "        y2 = v2[1]\n",
    "        bx = box[0]\n",
    "        by = box[1]\n",
    "        bw = box[2]\n",
    "        bh = box[3]\n",
    "        box_lines = [ (bx, by, bx, by + bh), (bx, by - bh, bx + bw, by - bh), (bx + bw, by - bh, bx - bw, by), (bx, by, bx + bh, by) ]\n",
    "        result = False\n",
    "        for (bx_, by_, bx2_, by2_) in box_lines:\n",
    "            if result:\n",
    "                return result\n",
    "            else:\n",
    "                result = self.ccw(x1, y1, bx_, by_, bx2_, by2_) != self.ccw(x2, y2, bx_, by_, bx2_, by2_) and self.ccw(x1, y1, x2, y2, bx_, by_) != self.ccw(x1, y1, x2, y2, bx2_, by2_)\n",
    "        \n",
    "        return result\n",
    "\n",
    "    def chunks(self, lst, n):\n",
    "        result = []\n",
    "        for i in range(0, len(lst), n):\n",
    "            if math.isnan(lst[i]):\n",
    "                break\n",
    "            else:\n",
    "                result.append(lst[i:i + n])\n",
    "        return result\n",
    "\n",
    "    def ccw(self, x1, y1, x2, y2, x3, y3):\n",
    "        return (y3-y1) * (x2-x1) > (y2-y1) * (x3-x1)"
   ]
  },
  {
   "cell_type": "code",
   "execution_count": 184,
   "metadata": {},
   "outputs": [],
   "source": [
    "dataset = pd.read_csv(os.path.join(os.getcwd(), \"../../data/vectors/vector.csv\"), header = None, delimiter=',', names = list(range(150)))"
   ]
  },
  {
   "cell_type": "code",
   "execution_count": 185,
   "metadata": {},
   "outputs": [
    {
     "name": "stdout",
     "output_type": "stream",
     "text": [
      "gg (1, 150) [855]\n",
      "Discrete(4)\n",
      "(150,)\n"
     ]
    }
   ],
   "source": [
    "env = VectorEnv(dataset.values)\n",
    "print(env.action_space)\n",
    "print(env.observation_space.shape)\n",
    "\n",
    "obj, r, d, t, x = env.step(np.arange(0, 4, dtype=int).reshape(-1, 1))"
   ]
  },
  {
   "cell_type": "code",
   "execution_count": 186,
   "metadata": {},
   "outputs": [],
   "source": [
    "from tensorflow import keras\n",
    "from keras.models import Sequential\n",
    "from keras.layers import Dense, Activation, Flatten, Embedding, Reshape\n",
    "from keras.optimizers import Adam"
   ]
  },
  {
   "cell_type": "code",
   "execution_count": 187,
   "metadata": {},
   "outputs": [
    {
     "name": "stdout",
     "output_type": "stream",
     "text": [
      "[InputSpec(shape=(None, 150), ndim=2)]\n"
     ]
    }
   ],
   "source": [
    "model = Sequential()\n",
    "model.add(Dense(150, input_dim=150))\n",
    "model.add(Dense(50, activation='relu'))\n",
    "model.add(Dense(50, activation='relu'))\n",
    "model.add(Dense(4, activation='linear'))\n",
    "model.add(Flatten())\n",
    "print(model.input_spec)"
   ]
  },
  {
   "cell_type": "code",
   "execution_count": 188,
   "metadata": {},
   "outputs": [
    {
     "name": "stdout",
     "output_type": "stream",
     "text": [
      "Requirement already satisfied: keras-rl2 in c:\\users\\chwo\\appdata\\local\\programs\\python\\python38\\lib\\site-packages (1.0.5)\n",
      "Requirement already satisfied: tensorflow in c:\\users\\chwo\\appdata\\local\\programs\\python\\python38\\lib\\site-packages (from keras-rl2) (2.10.0)\n",
      "Requirement already satisfied: numpy>=1.20 in c:\\users\\chwo\\appdata\\local\\programs\\python\\python38\\lib\\site-packages (from tensorflow->keras-rl2) (1.23.2)\n",
      "Requirement already satisfied: setuptools in c:\\users\\chwo\\appdata\\local\\programs\\python\\python38\\lib\\site-packages (from tensorflow->keras-rl2) (41.2.0)\n",
      "Requirement already satisfied: packaging in c:\\users\\chwo\\appdata\\local\\programs\\python\\python38\\lib\\site-packages (from tensorflow->keras-rl2) (21.3)\n",
      "Requirement already satisfied: opt-einsum>=2.3.2 in c:\\users\\chwo\\appdata\\local\\programs\\python\\python38\\lib\\site-packages (from tensorflow->keras-rl2) (3.3.0)\n",
      "Requirement already satisfied: keras<2.11,>=2.10.0 in c:\\users\\chwo\\appdata\\local\\programs\\python\\python38\\lib\\site-packages (from tensorflow->keras-rl2) (2.10.0)\n",
      "Requirement already satisfied: typing-extensions>=3.6.6 in c:\\users\\chwo\\appdata\\local\\programs\\python\\python38\\lib\\site-packages (from tensorflow->keras-rl2) (4.3.0)\n",
      "Requirement already satisfied: tensorflow-estimator<2.11,>=2.10.0 in c:\\users\\chwo\\appdata\\local\\programs\\python\\python38\\lib\\site-packages (from tensorflow->keras-rl2) (2.10.0)\n",
      "Requirement already satisfied: gast<=0.4.0,>=0.2.1 in c:\\users\\chwo\\appdata\\local\\programs\\python\\python38\\lib\\site-packages (from tensorflow->keras-rl2) (0.4.0)\n",
      "Requirement already satisfied: six>=1.12.0 in c:\\users\\chwo\\appdata\\local\\programs\\python\\python38\\lib\\site-packages (from tensorflow->keras-rl2) (1.16.0)\n",
      "Requirement already satisfied: tensorflow-io-gcs-filesystem>=0.23.1 in c:\\users\\chwo\\appdata\\local\\programs\\python\\python38\\lib\\site-packages (from tensorflow->keras-rl2) (0.27.0)\n",
      "Requirement already satisfied: wrapt>=1.11.0 in c:\\users\\chwo\\appdata\\local\\programs\\python\\python38\\lib\\site-packages (from tensorflow->keras-rl2) (1.14.1)\n",
      "Requirement already satisfied: libclang>=13.0.0 in c:\\users\\chwo\\appdata\\local\\programs\\python\\python38\\lib\\site-packages (from tensorflow->keras-rl2) (14.0.6)\n",
      "Requirement already satisfied: h5py>=2.9.0 in c:\\users\\chwo\\appdata\\local\\programs\\python\\python38\\lib\\site-packages (from tensorflow->keras-rl2) (3.7.0)\n",
      "Requirement already satisfied: absl-py>=1.0.0 in c:\\users\\chwo\\appdata\\local\\programs\\python\\python38\\lib\\site-packages (from tensorflow->keras-rl2) (1.2.0)\n",
      "Requirement already satisfied: protobuf<3.20,>=3.9.2 in c:\\users\\chwo\\appdata\\local\\programs\\python\\python38\\lib\\site-packages (from tensorflow->keras-rl2) (3.19.5)\n",
      "Requirement already satisfied: tensorboard<2.11,>=2.10 in c:\\users\\chwo\\appdata\\local\\programs\\python\\python38\\lib\\site-packages (from tensorflow->keras-rl2) (2.10.0)\n",
      "Requirement already satisfied: flatbuffers>=2.0 in c:\\users\\chwo\\appdata\\local\\programs\\python\\python38\\lib\\site-packages (from tensorflow->keras-rl2) (2.0.7)\n",
      "Requirement already satisfied: termcolor>=1.1.0 in c:\\users\\chwo\\appdata\\local\\programs\\python\\python38\\lib\\site-packages (from tensorflow->keras-rl2) (2.0.1)\n",
      "Requirement already satisfied: google-pasta>=0.1.1 in c:\\users\\chwo\\appdata\\local\\programs\\python\\python38\\lib\\site-packages (from tensorflow->keras-rl2) (0.2.0)\n",
      "Requirement already satisfied: grpcio<2.0,>=1.24.3 in c:\\users\\chwo\\appdata\\local\\programs\\python\\python38\\lib\\site-packages (from tensorflow->keras-rl2) (1.49.0)\n",
      "Requirement already satisfied: astunparse>=1.6.0 in c:\\users\\chwo\\appdata\\local\\programs\\python\\python38\\lib\\site-packages (from tensorflow->keras-rl2) (1.6.3)\n",
      "Requirement already satisfied: keras-preprocessing>=1.1.1 in c:\\users\\chwo\\appdata\\local\\programs\\python\\python38\\lib\\site-packages (from tensorflow->keras-rl2) (1.1.2)\n",
      "Requirement already satisfied: wheel<1.0,>=0.23.0 in c:\\users\\chwo\\appdata\\local\\programs\\python\\python38\\lib\\site-packages (from astunparse>=1.6.0->tensorflow->keras-rl2) (0.37.1)\n",
      "Requirement already satisfied: werkzeug>=1.0.1 in c:\\users\\chwo\\appdata\\local\\programs\\python\\python38\\lib\\site-packages (from tensorboard<2.11,>=2.10->tensorflow->keras-rl2) (2.2.2)\n",
      "Requirement already satisfied: google-auth<3,>=1.6.3 in c:\\users\\chwo\\appdata\\local\\programs\\python\\python38\\lib\\site-packages (from tensorboard<2.11,>=2.10->tensorflow->keras-rl2) (2.11.0)\n",
      "Requirement already satisfied: tensorboard-data-server<0.7.0,>=0.6.0 in c:\\users\\chwo\\appdata\\local\\programs\\python\\python38\\lib\\site-packages (from tensorboard<2.11,>=2.10->tensorflow->keras-rl2) (0.6.1)\n",
      "Requirement already satisfied: markdown>=2.6.8 in c:\\users\\chwo\\appdata\\local\\programs\\python\\python38\\lib\\site-packages (from tensorboard<2.11,>=2.10->tensorflow->keras-rl2) (3.4.1)\n",
      "Requirement already satisfied: google-auth-oauthlib<0.5,>=0.4.1 in c:\\users\\chwo\\appdata\\local\\programs\\python\\python38\\lib\\site-packages (from tensorboard<2.11,>=2.10->tensorflow->keras-rl2) (0.4.6)\n",
      "Requirement already satisfied: tensorboard-plugin-wit>=1.6.0 in c:\\users\\chwo\\appdata\\local\\programs\\python\\python38\\lib\\site-packages (from tensorboard<2.11,>=2.10->tensorflow->keras-rl2) (1.8.1)\n",
      "Requirement already satisfied: requests<3,>=2.21.0 in c:\\users\\chwo\\appdata\\local\\programs\\python\\python38\\lib\\site-packages (from tensorboard<2.11,>=2.10->tensorflow->keras-rl2) (2.28.1)\n",
      "Requirement already satisfied: pyparsing!=3.0.5,>=2.0.2 in c:\\users\\chwo\\appdata\\local\\programs\\python\\python38\\lib\\site-packages (from packaging->tensorflow->keras-rl2) (3.0.9)\n",
      "Requirement already satisfied: cachetools<6.0,>=2.0.0 in c:\\users\\chwo\\appdata\\local\\programs\\python\\python38\\lib\\site-packages (from google-auth<3,>=1.6.3->tensorboard<2.11,>=2.10->tensorflow->keras-rl2) (5.2.0)\n",
      "Requirement already satisfied: pyasn1-modules>=0.2.1 in c:\\users\\chwo\\appdata\\local\\programs\\python\\python38\\lib\\site-packages (from google-auth<3,>=1.6.3->tensorboard<2.11,>=2.10->tensorflow->keras-rl2) (0.2.8)\n",
      "Requirement already satisfied: rsa<5,>=3.1.4 in c:\\users\\chwo\\appdata\\local\\programs\\python\\python38\\lib\\site-packages (from google-auth<3,>=1.6.3->tensorboard<2.11,>=2.10->tensorflow->keras-rl2) (4.9)\n",
      "Requirement already satisfied: requests-oauthlib>=0.7.0 in c:\\users\\chwo\\appdata\\local\\programs\\python\\python38\\lib\\site-packages (from google-auth-oauthlib<0.5,>=0.4.1->tensorboard<2.11,>=2.10->tensorflow->keras-rl2) (1.3.1)\n",
      "Requirement already satisfied: importlib-metadata>=4.4 in c:\\users\\chwo\\appdata\\local\\programs\\python\\python38\\lib\\site-packages (from markdown>=2.6.8->tensorboard<2.11,>=2.10->tensorflow->keras-rl2) (4.12.0)\n",
      "Requirement already satisfied: charset-normalizer<3,>=2 in c:\\users\\chwo\\appdata\\local\\programs\\python\\python38\\lib\\site-packages (from requests<3,>=2.21.0->tensorboard<2.11,>=2.10->tensorflow->keras-rl2) (2.1.1)\n",
      "Requirement already satisfied: urllib3<1.27,>=1.21.1 in c:\\users\\chwo\\appdata\\local\\programs\\python\\python38\\lib\\site-packages (from requests<3,>=2.21.0->tensorboard<2.11,>=2.10->tensorflow->keras-rl2) (1.26.12)\n",
      "Requirement already satisfied: certifi>=2017.4.17 in c:\\users\\chwo\\appdata\\local\\programs\\python\\python38\\lib\\site-packages (from requests<3,>=2.21.0->tensorboard<2.11,>=2.10->tensorflow->keras-rl2) (2022.9.14)\n",
      "Requirement already satisfied: idna<4,>=2.5 in c:\\users\\chwo\\appdata\\local\\programs\\python\\python38\\lib\\site-packages (from requests<3,>=2.21.0->tensorboard<2.11,>=2.10->tensorflow->keras-rl2) (3.4)\n",
      "Requirement already satisfied: MarkupSafe>=2.1.1 in c:\\users\\chwo\\appdata\\local\\programs\\python\\python38\\lib\\site-packages (from werkzeug>=1.0.1->tensorboard<2.11,>=2.10->tensorflow->keras-rl2) (2.1.1)\n",
      "Requirement already satisfied: zipp>=0.5 in c:\\users\\chwo\\appdata\\local\\programs\\python\\python38\\lib\\site-packages (from importlib-metadata>=4.4->markdown>=2.6.8->tensorboard<2.11,>=2.10->tensorflow->keras-rl2) (3.8.1)\n",
      "Requirement already satisfied: pyasn1<0.5.0,>=0.4.6 in c:\\users\\chwo\\appdata\\local\\programs\\python\\python38\\lib\\site-packages (from pyasn1-modules>=0.2.1->google-auth<3,>=1.6.3->tensorboard<2.11,>=2.10->tensorflow->keras-rl2) (0.4.8)\n",
      "Requirement already satisfied: oauthlib>=3.0.0 in c:\\users\\chwo\\appdata\\local\\programs\\python\\python38\\lib\\site-packages (from requests-oauthlib>=0.7.0->google-auth-oauthlib<0.5,>=0.4.1->tensorboard<2.11,>=2.10->tensorflow->keras-rl2) (3.2.1)\n"
     ]
    },
    {
     "name": "stderr",
     "output_type": "stream",
     "text": [
      "c:\\Users\\chwo\\AppData\\Local\\Programs\\Python\\Python38\\lib\\site-packages\\keras\\optimizers\\optimizer_v2\\adam.py:114: UserWarning: The `lr` argument is deprecated, use `learning_rate` instead.\n",
      "  super().__init__(name, **kwargs)\n"
     ]
    },
    {
     "name": "stdout",
     "output_type": "stream",
     "text": [
      "Training for 1000000 steps ...\n",
      "gg (1, 150) [3835]\n",
      "Interval 1 (0 steps performed)\n"
     ]
    },
    {
     "ename": "ValueError",
     "evalue": "Error when checking input: expected dense_82_input to have 2 dimensions, but got array with shape (1, 1, 1, 150)",
     "output_type": "error",
     "traceback": [
      "\u001b[1;31m---------------------------------------------------------------------------\u001b[0m",
      "\u001b[1;31mValueError\u001b[0m                                Traceback (most recent call last)",
      "\u001b[1;32md:\\haskell\\line-agent\\agent\\src\\agent.ipynb Cell 9\u001b[0m in \u001b[0;36m<cell line: 10>\u001b[1;34m()\u001b[0m\n\u001b[0;32m      <a href='vscode-notebook-cell:/d%3A/haskell/line-agent/agent/src/agent.ipynb#X11sZmlsZQ%3D%3D?line=7'>8</a>\u001b[0m dqn_only_embedding \u001b[39m=\u001b[39m DQNAgent(model\u001b[39m=\u001b[39mmodel, nb_actions\u001b[39m=\u001b[39m\u001b[39m4\u001b[39m, memory\u001b[39m=\u001b[39mmemory, nb_steps_warmup\u001b[39m=\u001b[39m\u001b[39m500\u001b[39m, target_model_update\u001b[39m=\u001b[39m\u001b[39m1e-2\u001b[39m, policy\u001b[39m=\u001b[39mpolicy)\n\u001b[0;32m      <a href='vscode-notebook-cell:/d%3A/haskell/line-agent/agent/src/agent.ipynb#X11sZmlsZQ%3D%3D?line=8'>9</a>\u001b[0m dqn_only_embedding\u001b[39m.\u001b[39mcompile(Adam(lr\u001b[39m=\u001b[39m\u001b[39m1e-3\u001b[39m), metrics\u001b[39m=\u001b[39m[\u001b[39m'\u001b[39m\u001b[39mmae\u001b[39m\u001b[39m'\u001b[39m])\n\u001b[1;32m---> <a href='vscode-notebook-cell:/d%3A/haskell/line-agent/agent/src/agent.ipynb#X11sZmlsZQ%3D%3D?line=9'>10</a>\u001b[0m dqn_only_embedding\u001b[39m.\u001b[39;49mfit(env, nb_steps\u001b[39m=\u001b[39;49m\u001b[39m1000000\u001b[39;49m, visualize\u001b[39m=\u001b[39;49m\u001b[39mFalse\u001b[39;49;00m, verbose\u001b[39m=\u001b[39;49m\u001b[39m1\u001b[39;49m, nb_max_episode_steps\u001b[39m=\u001b[39;49m\u001b[39m99\u001b[39;49m, log_interval\u001b[39m=\u001b[39;49m\u001b[39m100000\u001b[39;49m)\n",
      "File \u001b[1;32mc:\\Users\\chwo\\AppData\\Local\\Programs\\Python\\Python38\\lib\\site-packages\\rl\\core.py:168\u001b[0m, in \u001b[0;36mAgent.fit\u001b[1;34m(self, env, nb_steps, action_repetition, callbacks, verbose, visualize, nb_max_start_steps, start_step_policy, log_interval, nb_max_episode_steps)\u001b[0m\n\u001b[0;32m    165\u001b[0m callbacks\u001b[39m.\u001b[39mon_step_begin(episode_step)\n\u001b[0;32m    166\u001b[0m \u001b[39m# This is were all of the work happens. We first perceive and compute the action\u001b[39;00m\n\u001b[0;32m    167\u001b[0m \u001b[39m# (forward step) and then use the reward to improve (backward step).\u001b[39;00m\n\u001b[1;32m--> 168\u001b[0m action \u001b[39m=\u001b[39m \u001b[39mself\u001b[39;49m\u001b[39m.\u001b[39;49mforward(observation)\n\u001b[0;32m    169\u001b[0m \u001b[39mif\u001b[39;00m \u001b[39mself\u001b[39m\u001b[39m.\u001b[39mprocessor \u001b[39mis\u001b[39;00m \u001b[39mnot\u001b[39;00m \u001b[39mNone\u001b[39;00m:\n\u001b[0;32m    170\u001b[0m     action \u001b[39m=\u001b[39m \u001b[39mself\u001b[39m\u001b[39m.\u001b[39mprocessor\u001b[39m.\u001b[39mprocess_action(action)\n",
      "File \u001b[1;32mc:\\Users\\chwo\\AppData\\Local\\Programs\\Python\\Python38\\lib\\site-packages\\rl\\agents\\dqn.py:224\u001b[0m, in \u001b[0;36mDQNAgent.forward\u001b[1;34m(self, observation)\u001b[0m\n\u001b[0;32m    221\u001b[0m \u001b[39mdef\u001b[39;00m \u001b[39mforward\u001b[39m(\u001b[39mself\u001b[39m, observation):\n\u001b[0;32m    222\u001b[0m     \u001b[39m# Select an action.\u001b[39;00m\n\u001b[0;32m    223\u001b[0m     state \u001b[39m=\u001b[39m \u001b[39mself\u001b[39m\u001b[39m.\u001b[39mmemory\u001b[39m.\u001b[39mget_recent_state(observation)\n\u001b[1;32m--> 224\u001b[0m     q_values \u001b[39m=\u001b[39m \u001b[39mself\u001b[39;49m\u001b[39m.\u001b[39;49mcompute_q_values(state)\n\u001b[0;32m    225\u001b[0m     \u001b[39mif\u001b[39;00m \u001b[39mself\u001b[39m\u001b[39m.\u001b[39mtraining:\n\u001b[0;32m    226\u001b[0m         action \u001b[39m=\u001b[39m \u001b[39mself\u001b[39m\u001b[39m.\u001b[39mpolicy\u001b[39m.\u001b[39mselect_action(q_values\u001b[39m=\u001b[39mq_values)\n",
      "File \u001b[1;32mc:\\Users\\chwo\\AppData\\Local\\Programs\\Python\\Python38\\lib\\site-packages\\rl\\agents\\dqn.py:68\u001b[0m, in \u001b[0;36mAbstractDQNAgent.compute_q_values\u001b[1;34m(self, state)\u001b[0m\n\u001b[0;32m     67\u001b[0m \u001b[39mdef\u001b[39;00m \u001b[39mcompute_q_values\u001b[39m(\u001b[39mself\u001b[39m, state):\n\u001b[1;32m---> 68\u001b[0m     q_values \u001b[39m=\u001b[39m \u001b[39mself\u001b[39;49m\u001b[39m.\u001b[39;49mcompute_batch_q_values([state])\u001b[39m.\u001b[39mflatten()\n\u001b[0;32m     69\u001b[0m     \u001b[39massert\u001b[39;00m q_values\u001b[39m.\u001b[39mshape \u001b[39m==\u001b[39m (\u001b[39mself\u001b[39m\u001b[39m.\u001b[39mnb_actions,)\n\u001b[0;32m     70\u001b[0m     \u001b[39mreturn\u001b[39;00m q_values\n",
      "File \u001b[1;32mc:\\Users\\chwo\\AppData\\Local\\Programs\\Python\\Python38\\lib\\site-packages\\rl\\agents\\dqn.py:63\u001b[0m, in \u001b[0;36mAbstractDQNAgent.compute_batch_q_values\u001b[1;34m(self, state_batch)\u001b[0m\n\u001b[0;32m     61\u001b[0m \u001b[39mdef\u001b[39;00m \u001b[39mcompute_batch_q_values\u001b[39m(\u001b[39mself\u001b[39m, state_batch):\n\u001b[0;32m     62\u001b[0m     batch \u001b[39m=\u001b[39m \u001b[39mself\u001b[39m\u001b[39m.\u001b[39mprocess_state_batch(state_batch)\n\u001b[1;32m---> 63\u001b[0m     q_values \u001b[39m=\u001b[39m \u001b[39mself\u001b[39;49m\u001b[39m.\u001b[39;49mmodel\u001b[39m.\u001b[39;49mpredict_on_batch(batch)\n\u001b[0;32m     64\u001b[0m     \u001b[39massert\u001b[39;00m q_values\u001b[39m.\u001b[39mshape \u001b[39m==\u001b[39m (\u001b[39mlen\u001b[39m(state_batch), \u001b[39mself\u001b[39m\u001b[39m.\u001b[39mnb_actions)\n\u001b[0;32m     65\u001b[0m     \u001b[39mreturn\u001b[39;00m q_values\n",
      "File \u001b[1;32mc:\\Users\\chwo\\AppData\\Local\\Programs\\Python\\Python38\\lib\\site-packages\\keras\\engine\\training_v1.py:1304\u001b[0m, in \u001b[0;36mModel.predict_on_batch\u001b[1;34m(self, x)\u001b[0m\n\u001b[0;32m   1299\u001b[0m     \u001b[39mraise\u001b[39;00m \u001b[39mNotImplementedError\u001b[39;00m(\n\u001b[0;32m   1300\u001b[0m         \u001b[39m\"\u001b[39m\u001b[39m`predict_on_batch` is not supported for models distributed \u001b[39m\u001b[39m\"\u001b[39m\n\u001b[0;32m   1301\u001b[0m         \u001b[39m\"\u001b[39m\u001b[39mwith tf.distribute.Strategy.\u001b[39m\u001b[39m\"\u001b[39m\n\u001b[0;32m   1302\u001b[0m     )\n\u001b[0;32m   1303\u001b[0m \u001b[39m# Validate and standardize user data.\u001b[39;00m\n\u001b[1;32m-> 1304\u001b[0m inputs, _, _ \u001b[39m=\u001b[39m \u001b[39mself\u001b[39;49m\u001b[39m.\u001b[39;49m_standardize_user_data(\n\u001b[0;32m   1305\u001b[0m     x, extract_tensors_from_dataset\u001b[39m=\u001b[39;49m\u001b[39mTrue\u001b[39;49;00m\n\u001b[0;32m   1306\u001b[0m )\n\u001b[0;32m   1307\u001b[0m \u001b[39m# If `self._distribution_strategy` is True, then we are in a replica\u001b[39;00m\n\u001b[0;32m   1308\u001b[0m \u001b[39m# context at this point.\u001b[39;00m\n\u001b[0;32m   1309\u001b[0m \u001b[39mif\u001b[39;00m \u001b[39mself\u001b[39m\u001b[39m.\u001b[39mrun_eagerly \u001b[39mor\u001b[39;00m \u001b[39mself\u001b[39m\u001b[39m.\u001b[39m_distribution_strategy:\n",
      "File \u001b[1;32mc:\\Users\\chwo\\AppData\\Local\\Programs\\Python\\Python38\\lib\\site-packages\\keras\\engine\\training_v1.py:2649\u001b[0m, in \u001b[0;36mModel._standardize_user_data\u001b[1;34m(self, x, y, sample_weight, class_weight, batch_size, check_steps, steps_name, steps, validation_split, shuffle, extract_tensors_from_dataset)\u001b[0m\n\u001b[0;32m   2640\u001b[0m \u001b[39mif\u001b[39;00m (\n\u001b[0;32m   2641\u001b[0m     \u001b[39mnot\u001b[39;00m run_eagerly\n\u001b[0;32m   2642\u001b[0m     \u001b[39mand\u001b[39;00m is_build_called\n\u001b[1;32m   (...)\u001b[0m\n\u001b[0;32m   2645\u001b[0m     \u001b[39mand\u001b[39;00m \u001b[39many\u001b[39m(_is_symbolic_tensor(v) \u001b[39mfor\u001b[39;00m v \u001b[39min\u001b[39;00m all_inputs)\n\u001b[0;32m   2646\u001b[0m ):\n\u001b[0;32m   2647\u001b[0m     \u001b[39mreturn\u001b[39;00m [], [], \u001b[39mNone\u001b[39;00m\n\u001b[1;32m-> 2649\u001b[0m \u001b[39mreturn\u001b[39;00m \u001b[39mself\u001b[39;49m\u001b[39m.\u001b[39;49m_standardize_tensors(\n\u001b[0;32m   2650\u001b[0m     x,\n\u001b[0;32m   2651\u001b[0m     y,\n\u001b[0;32m   2652\u001b[0m     sample_weight,\n\u001b[0;32m   2653\u001b[0m     run_eagerly\u001b[39m=\u001b[39;49mrun_eagerly,\n\u001b[0;32m   2654\u001b[0m     dict_inputs\u001b[39m=\u001b[39;49mdict_inputs,\n\u001b[0;32m   2655\u001b[0m     is_dataset\u001b[39m=\u001b[39;49mis_dataset,\n\u001b[0;32m   2656\u001b[0m     class_weight\u001b[39m=\u001b[39;49mclass_weight,\n\u001b[0;32m   2657\u001b[0m     batch_size\u001b[39m=\u001b[39;49mbatch_size,\n\u001b[0;32m   2658\u001b[0m )\n",
      "File \u001b[1;32mc:\\Users\\chwo\\AppData\\Local\\Programs\\Python\\Python38\\lib\\site-packages\\keras\\engine\\training_v1.py:2690\u001b[0m, in \u001b[0;36mModel._standardize_tensors\u001b[1;34m(self, x, y, sample_weight, run_eagerly, dict_inputs, is_dataset, class_weight, batch_size)\u001b[0m\n\u001b[0;32m   2687\u001b[0m \u001b[39m# Standardize the inputs.\u001b[39;00m\n\u001b[0;32m   2688\u001b[0m \u001b[39mif\u001b[39;00m \u001b[39mnot\u001b[39;00m \u001b[39misinstance\u001b[39m(x, (tf\u001b[39m.\u001b[39mcompat\u001b[39m.\u001b[39mv1\u001b[39m.\u001b[39mdata\u001b[39m.\u001b[39mDataset, tf\u001b[39m.\u001b[39mdata\u001b[39m.\u001b[39mDataset)):\n\u001b[0;32m   2689\u001b[0m     \u001b[39m# TODO(fchollet): run static checks with dataset output shape(s).\u001b[39;00m\n\u001b[1;32m-> 2690\u001b[0m     x \u001b[39m=\u001b[39m training_utils_v1\u001b[39m.\u001b[39;49mstandardize_input_data(\n\u001b[0;32m   2691\u001b[0m         x,\n\u001b[0;32m   2692\u001b[0m         feed_input_names,\n\u001b[0;32m   2693\u001b[0m         feed_input_shapes,\n\u001b[0;32m   2694\u001b[0m         check_batch_axis\u001b[39m=\u001b[39;49m\u001b[39mFalse\u001b[39;49;00m,  \u001b[39m# Don't enforce the batch size.\u001b[39;49;00m\n\u001b[0;32m   2695\u001b[0m         exception_prefix\u001b[39m=\u001b[39;49m\u001b[39m\"\u001b[39;49m\u001b[39minput\u001b[39;49m\u001b[39m\"\u001b[39;49m,\n\u001b[0;32m   2696\u001b[0m     )\n\u001b[0;32m   2698\u001b[0m \u001b[39m# Get typespecs for the input data and sanitize it if necessary.\u001b[39;00m\n\u001b[0;32m   2699\u001b[0m \u001b[39m# TODO(momernick): This should be capable of doing full input validation\u001b[39;00m\n\u001b[0;32m   2700\u001b[0m \u001b[39m# at all times - validate that this is so and refactor the\u001b[39;00m\n\u001b[0;32m   2701\u001b[0m \u001b[39m# standardization code.\u001b[39;00m\n\u001b[0;32m   2702\u001b[0m \u001b[39mif\u001b[39;00m \u001b[39misinstance\u001b[39m(x, tf\u001b[39m.\u001b[39mdata\u001b[39m.\u001b[39mDataset):\n",
      "File \u001b[1;32mc:\\Users\\chwo\\AppData\\Local\\Programs\\Python\\Python38\\lib\\site-packages\\keras\\engine\\training_utils_v1.py:714\u001b[0m, in \u001b[0;36mstandardize_input_data\u001b[1;34m(data, names, shapes, check_batch_axis, exception_prefix)\u001b[0m\n\u001b[0;32m    712\u001b[0m shape \u001b[39m=\u001b[39m shapes[i]\n\u001b[0;32m    713\u001b[0m \u001b[39mif\u001b[39;00m \u001b[39mlen\u001b[39m(data_shape) \u001b[39m!=\u001b[39m \u001b[39mlen\u001b[39m(shape):\n\u001b[1;32m--> 714\u001b[0m     \u001b[39mraise\u001b[39;00m \u001b[39mValueError\u001b[39;00m(\n\u001b[0;32m    715\u001b[0m         \u001b[39m\"\u001b[39m\u001b[39mError when checking \u001b[39m\u001b[39m\"\u001b[39m\n\u001b[0;32m    716\u001b[0m         \u001b[39m+\u001b[39m exception_prefix\n\u001b[0;32m    717\u001b[0m         \u001b[39m+\u001b[39m \u001b[39m\"\u001b[39m\u001b[39m: expected \u001b[39m\u001b[39m\"\u001b[39m\n\u001b[0;32m    718\u001b[0m         \u001b[39m+\u001b[39m names[i]\n\u001b[0;32m    719\u001b[0m         \u001b[39m+\u001b[39m \u001b[39m\"\u001b[39m\u001b[39m to have \u001b[39m\u001b[39m\"\u001b[39m\n\u001b[0;32m    720\u001b[0m         \u001b[39m+\u001b[39m \u001b[39mstr\u001b[39m(\u001b[39mlen\u001b[39m(shape))\n\u001b[0;32m    721\u001b[0m         \u001b[39m+\u001b[39m \u001b[39m\"\u001b[39m\u001b[39m dimensions, but got array \u001b[39m\u001b[39m\"\u001b[39m\n\u001b[0;32m    722\u001b[0m         \u001b[39m\"\u001b[39m\u001b[39mwith shape \u001b[39m\u001b[39m\"\u001b[39m \u001b[39m+\u001b[39m \u001b[39mstr\u001b[39m(data_shape)\n\u001b[0;32m    723\u001b[0m     )\n\u001b[0;32m    724\u001b[0m \u001b[39mif\u001b[39;00m \u001b[39mnot\u001b[39;00m check_batch_axis:\n\u001b[0;32m    725\u001b[0m     data_shape \u001b[39m=\u001b[39m data_shape[\u001b[39m1\u001b[39m:]\n",
      "\u001b[1;31mValueError\u001b[0m: Error when checking input: expected dense_82_input to have 2 dimensions, but got array with shape (1, 1, 1, 150)"
     ]
    }
   ],
   "source": [
    "\n",
    "!pip install keras-rl2\n",
    "from rl.agents.dqn import DQNAgent\n",
    "from rl.policy import EpsGreedyQPolicy\n",
    "from rl.memory import SequentialMemory\n",
    "\n",
    "memory = SequentialMemory(limit=50000, window_length=1)\n",
    "policy = EpsGreedyQPolicy()\n",
    "dqn_only_embedding = DQNAgent(model=model, nb_actions=4, memory=memory, nb_steps_warmup=500, target_model_update=1e-2, policy=policy)\n",
    "dqn_only_embedding.compile(Adam(lr=1e-3), metrics=['mae'])\n",
    "dqn_only_embedding.fit(env, nb_steps=1000000, visualize=False, verbose=1, nb_max_episode_steps=99, log_interval=100000)"
   ]
  },
  {
   "cell_type": "code",
   "execution_count": null,
   "metadata": {},
   "outputs": [],
   "source": []
  }
 ],
 "metadata": {
  "kernelspec": {
   "display_name": "Python 3.8.2 64-bit",
   "language": "python",
   "name": "python3"
  },
  "language_info": {
   "codemirror_mode": {
    "name": "ipython",
    "version": 3
   },
   "file_extension": ".py",
   "mimetype": "text/x-python",
   "name": "python",
   "nbconvert_exporter": "python",
   "pygments_lexer": "ipython3",
   "version": "3.8.2"
  },
  "orig_nbformat": 4,
  "vscode": {
   "interpreter": {
    "hash": "4f21d72bc557592fa910562da3bbc197e268e84f5a4077def0a8221dce6b5ef3"
   }
  }
 },
 "nbformat": 4,
 "nbformat_minor": 2
}
