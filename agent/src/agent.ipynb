{
 "cells": [
  {
   "cell_type": "code",
   "execution_count": 139,
   "metadata": {},
   "outputs": [
    {
     "name": "stdout",
     "output_type": "stream",
     "text": [
      "Requirement already satisfied: pandas in c:\\users\\chris\\appdata\\local\\programs\\python\\python38\\lib\\site-packages (1.5.0)\n",
      "Requirement already satisfied: sklearn in c:\\users\\chris\\appdata\\local\\programs\\python\\python38\\lib\\site-packages (0.0)\n",
      "Requirement already satisfied: gym in c:\\users\\chris\\appdata\\local\\programs\\python\\python38\\lib\\site-packages (0.26.1)\n"
     ]
    },
    {
     "name": "stderr",
     "output_type": "stream",
     "text": [
      "ERROR: Could not find a version that satisfies the requirement Itertools (from versions: none)\n",
      "ERROR: No matching distribution found for Itertools\n"
     ]
    }
   ],
   "source": [
    "!pip install pandas sklearn gym"
   ]
  },
  {
   "cell_type": "code",
   "execution_count": 2,
   "metadata": {},
   "outputs": [],
   "source": [
    "import os\n",
    "import pandas as pd\n",
    "from sklearn.model_selection import train_test_split\n",
    "from sklearn.linear_model import LinearRegression\n",
    "from datetime import datetime\n",
    "from sklearn.tree import DecisionTreeClassifier\n",
    "from sklearn.ensemble import RandomForestClassifier\n",
    "from sklearn.preprocessing import StandardScaler\n",
    "from gym import spaces, Env\n",
    "import numpy as np"
   ]
  },
  {
   "cell_type": "code",
   "execution_count": 3,
   "metadata": {},
   "outputs": [],
   "source": [
    "class LineAgent:\n",
    "    def __init__(self):\n",
    "        self.vectors = np.zeros(shape=(2, 10))\n",
    "\n",
    "    def predict(self, actions):\n",
    "        self.vectors = self.vectors + actions\n"
   ]
  },
  {
   "cell_type": "code",
   "execution_count": 161,
   "metadata": {},
   "outputs": [],
   "source": [
    "import math\n",
    "from operator import truediv\n",
    "\n",
    "from numpy import NaN, nan\n",
    "\n",
    "\n",
    "class VectorEnv(Env):\n",
    "    def __init__(self, episodes):\n",
    "        super(VectorEnv, self).__init__()\n",
    "        self.action_space = spaces.Box(low=-5, high=5, shape=(10, 2))\n",
    "        self.observation_space = (38, 4)\n",
    "        self.episodes = episodes\n",
    "        self.reset()\n",
    "\n",
    "    def step(self, action):\n",
    "        self.t += 1\n",
    "        done = self.t > 100\n",
    "        self.state = self.state + action\n",
    "\n",
    "        # Calculate reward based on state and episode\n",
    "        reward = 0\n",
    "        state_with_start = np.concatenate(([self.start], self.state[1:]))\n",
    "        state_with_end = np.concatenate((self.state[:-1], [self.end]))\n",
    "        for (v1, v2) in zip(state_with_start, state_with_end):\n",
    "            for box in self.episode:\n",
    "                reward -= -1000 if self.intersects(v1, v2, box) else 0\n",
    "\n",
    "        # Calculate distance of linesegments and reward for shorter lines\n",
    "\n",
    "        return self.episode, reward, done, {}\n",
    "\n",
    "    def reset(self):\n",
    "        self.state = np.zeros(shape=(10, 2))\n",
    "        episode = self.episodes.sample()\n",
    "        self.episode = self.chunks(episode.values.flatten(), 4)\n",
    "        self.t = 0\n",
    "        self.start = self.episode[0][:2]\n",
    "        self.end = self.episode[-1][:2]\n",
    "        return self.state\n",
    "\n",
    "    def intersects(self, v1, v2, box):\n",
    "        x1 = v1[0]\n",
    "        y1 = v1[1]\n",
    "        x2 = v2[0]\n",
    "        y2 = v2[1]\n",
    "        bx = box[0]\n",
    "        by = box[1]\n",
    "        bw = box[2]\n",
    "        bh = box[3]\n",
    "        box_lines = [ (bx, by, bx, by + bh), (bx, by - bh, bx + bw, by - bh), (bx + bw, by - bh, bx - bw, by), (bx, by, bx + bh, by) ]\n",
    "        result = False\n",
    "        for (bx_, by_, bx2_, by2_) in box_lines:\n",
    "            if result:\n",
    "                return result\n",
    "            else:\n",
    "                result = self.ccw(x1, y1, bx_, by_, bx2_, by2_) != self.ccw(x2, y2, bx_, by_, bx2_, by2_) and self.ccw(x1, y1, x2, y2, bx_, by_) != self.ccw(x1, y1, x2, y2, bx2_, by2_)\n",
    "        \n",
    "        return result\n",
    "\n",
    "    def chunks(self, lst, n):\n",
    "        result = []\n",
    "        for i in range(0, len(lst), n):\n",
    "            if math.isnan(lst[i]):\n",
    "                break\n",
    "            else:\n",
    "                result.append(lst[i:i + n])\n",
    "        return result\n",
    "\n",
    "    def ccw(self, x1, y1, x2, y2, x3, y3):\n",
    "        return (y3-y1) * (x2-x1) > (y2-y1) * (x3-x1)"
   ]
  },
  {
   "cell_type": "code",
   "execution_count": 162,
   "metadata": {},
   "outputs": [],
   "source": [
    "dataset = pd.read_csv(os.path.join(os.getcwd(), \"../../data/vectors/vector.csv\"), header = None, delimiter=',', names = list(range(150)))"
   ]
  },
  {
   "cell_type": "code",
   "execution_count": 163,
   "metadata": {},
   "outputs": [],
   "source": [
    "env = VectorEnv(dataset)\n",
    "\n",
    "obj, r, d, x = env.step(np.arange(0, 20, dtype=int).reshape(10, 2))"
   ]
  },
  {
   "cell_type": "code",
   "execution_count": null,
   "metadata": {},
   "outputs": [],
   "source": []
  },
  {
   "cell_type": "code",
   "execution_count": null,
   "metadata": {},
   "outputs": [],
   "source": []
  }
 ],
 "metadata": {
  "kernelspec": {
   "display_name": "Python 3.8.0 64-bit",
   "language": "python",
   "name": "python3"
  },
  "language_info": {
   "codemirror_mode": {
    "name": "ipython",
    "version": 3
   },
   "file_extension": ".py",
   "mimetype": "text/x-python",
   "name": "python",
   "nbconvert_exporter": "python",
   "pygments_lexer": "ipython3",
   "version": "3.8.0"
  },
  "orig_nbformat": 4,
  "vscode": {
   "interpreter": {
    "hash": "3d3e0f5a071c3d54a1e63bce3160275a8e6b1225b175ea71d3e048c729e0e071"
   }
  }
 },
 "nbformat": 4,
 "nbformat_minor": 2
}
